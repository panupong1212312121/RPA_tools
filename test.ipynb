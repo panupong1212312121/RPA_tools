{
 "cells": [
  {
   "cell_type": "code",
   "execution_count": 15,
   "metadata": {},
   "outputs": [
    {
     "name": "stdout",
     "output_type": "stream",
     "text": [
      "['2024', 'Jun', '17', '01_04_18']\n",
      "C:\\Users\\Panupong Jindarat\\Desktop\\A\\2024\\Jun\\17\\01_04_18\n"
     ]
    }
   ],
   "source": [
    "from datetime import datetime\n",
    "\n",
    "datetime_today = datetime.now()\n",
    "\n",
    "def datetimeKey(): \n",
    "    dict = {}\n",
    "\n",
    "    datetime_key = datetime_today.strftime((\"%a_%d_%b_%Y_%H_%M_%S\"))\n",
    "    year_key = datetime_today.strftime((\"%Y\"))\n",
    "    month_key = datetime_today.strftime((\"%b\"))\n",
    "    date_key = datetime_today.strftime((\"%d\"))\n",
    "    time_key = datetime_today.strftime((\"%H_%M_%S\"))\n",
    "\n",
    "    dict['datetime'] = datetime_key\n",
    "    dict['year'] = year_key\n",
    "    dict['month'] = month_key\n",
    "    dict['date'] = date_key\n",
    "    dict['time'] = time_key\n",
    "\n",
    "    # return dict\n",
    "    return [year_key,month_key,date_key,time_key,datetime_key]\n",
    "\n",
    "import os \n",
    "\n",
    "r = datetimeKey()[:-1]\n",
    "desktop_path = os.path.join(os.path.expanduser(\"~\"), \"Desktop\")\n",
    "\n",
    "folder_output_path = os.path.join(desktop_path, 'A')\n",
    "\n",
    "if not os.path.exists(folder_output_path):\n",
    "    os.makedirs(folder_output_path)\n",
    "\n",
    "print(r)\n",
    "for folder in r:\n",
    "    folder_output_path = os.path.join(folder_output_path,str(folder))\n",
    "    if not os.path.exists(folder_output_path):\n",
    "        os.makedirs(folder_output_path)\n",
    "\n",
    "print(folder_output_path)"
   ]
  },
  {
   "cell_type": "code",
   "execution_count": null,
   "metadata": {},
   "outputs": [],
   "source": []
  }
 ],
 "metadata": {
  "kernelspec": {
   "display_name": "streamlitenv",
   "language": "python",
   "name": "python3"
  },
  "language_info": {
   "codemirror_mode": {
    "name": "ipython",
    "version": 3
   },
   "file_extension": ".py",
   "mimetype": "text/x-python",
   "name": "python",
   "nbconvert_exporter": "python",
   "pygments_lexer": "ipython3",
   "version": "3.12.2"
  }
 },
 "nbformat": 4,
 "nbformat_minor": 2
}
