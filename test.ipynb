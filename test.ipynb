{
 "cells": [
  {
   "cell_type": "code",
   "execution_count": 14,
   "metadata": {},
   "outputs": [
    {
     "name": "stdout",
     "output_type": "stream",
     "text": [
      "c:\\Users\\Panupong Jindarat\\Documents\\GitHub\\Streamline_rept_work_project\\pages\n",
      "1\n"
     ]
    }
   ],
   "source": [
    "import os\n",
    "class Process:\n",
    "\n",
    "    def submitProcess(self,input_data,tool_name):\n",
    "        pages_dir = os.path.join(os.getcwd(),\"pages\")\n",
    "        total_tool = self.count_subfiles(pages_dir)\n",
    "        print(pages_dir)\n",
    "        print(total_tool)\n",
    "        \n",
    "        # allSave = 0\n",
    "        # if tool_name == table_extractor.ToolName().tool_name:\n",
    "        #     if len(input_data)>0:\n",
    "        #         allSave += 1\n",
    "\n",
    "    def count_subfiles(self,path):\n",
    "        \"\"\"Counts the number of subfiles (not directories) in a given path.\"\"\"\n",
    "        file_count = 0\n",
    "        exclude_file = 1\n",
    "        for root, _, files in os.walk(path):\n",
    "            for filename in files:\n",
    "                if os.path.isfile(os.path.join(root, filename)):\n",
    "                    file_count += 1\n",
    "        total_tool = file_count - exclude_file\n",
    "        return total_tool\n",
    "    \n",
    "a = Process()\n",
    "a.submitProcess('','')"
   ]
  }
 ],
 "metadata": {
  "kernelspec": {
   "display_name": "streamlitenv",
   "language": "python",
   "name": "python3"
  },
  "language_info": {
   "codemirror_mode": {
    "name": "ipython",
    "version": 3
   },
   "file_extension": ".py",
   "mimetype": "text/x-python",
   "name": "python",
   "nbconvert_exporter": "python",
   "pygments_lexer": "ipython3",
   "version": "3.12.2"
  }
 },
 "nbformat": 4,
 "nbformat_minor": 2
}
