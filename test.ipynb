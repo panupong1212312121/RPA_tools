{
 "cells": [
  {
   "cell_type": "code",
   "execution_count": 9,
   "metadata": {},
   "outputs": [],
   "source": [
    "from datetime import datetime\n",
    "lenght = 40\n",
    "datetime_key = datetime.now().strftime((\"%a-%d-%b-%Y_%H_%M_%S\"))\n",
    "\n",
    "sharp_format = '#'*lenght\n",
    "\n",
    "header = f'''{sharp_format}\n",
    "{datetime_key:#^{lenght}}\n",
    "{sharp_format}\n",
    "\\n\n",
    "'''\n",
    "\n",
    "with open('text.txt', \"w\") as outfile:\n",
    "    detail = header\n",
    "    outfile.write(detail)"
   ]
  }
 ],
 "metadata": {
  "kernelspec": {
   "display_name": "streamlitenv",
   "language": "python",
   "name": "python3"
  },
  "language_info": {
   "codemirror_mode": {
    "name": "ipython",
    "version": 3
   },
   "file_extension": ".py",
   "mimetype": "text/x-python",
   "name": "python",
   "nbconvert_exporter": "python",
   "pygments_lexer": "ipython3",
   "version": "3.12.2"
  }
 },
 "nbformat": 4,
 "nbformat_minor": 2
}
