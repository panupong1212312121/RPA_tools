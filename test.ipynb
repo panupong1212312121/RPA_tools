{
 "cells": [
  {
   "cell_type": "code",
   "execution_count": 18,
   "metadata": {},
   "outputs": [
    {
     "name": "stdout",
     "output_type": "stream",
     "text": [
      "C:\\Users\\Panupong Jindarat\\Desktop\\A\n",
      "Dataframe saved to: C:\\Users\\Panupong Jindarat\\Desktop\\A\\export.xlsx\n"
     ]
    }
   ],
   "source": [
    "import pandas as pd\n",
    "import os\n",
    "\n",
    "# Create folder 'A' on Desktop if it doesn't exist\n",
    "desktop_path = os.path.join(os.path.expanduser(\"~\"), \"Desktop\")\n",
    "folder_path = os.path.join(desktop_path, 'A')\n",
    "if not os.path.exists(folder_path):\n",
    "    os.makedirs(folder_path)\n",
    "\n",
    "# Create the DataFrame\n",
    "df = pd.DataFrame([1,2,3])\n",
    "\n",
    "# Save the DataFrame to 'export.xlsx' inside folder 'A'\n",
    "export_path = os.path.join(folder_path, 'export.xlsx')\n",
    "df.to_excel(export_path)\n",
    "\n",
    "print(folder_path)\n",
    "print(f'Dataframe saved to: {export_path}')"
   ]
  },
  {
   "cell_type": "code",
   "execution_count": null,
   "metadata": {},
   "outputs": [],
   "source": []
  }
 ],
 "metadata": {
  "kernelspec": {
   "display_name": "streamlitenv",
   "language": "python",
   "name": "python3"
  },
  "language_info": {
   "codemirror_mode": {
    "name": "ipython",
    "version": 3
   },
   "file_extension": ".py",
   "mimetype": "text/x-python",
   "name": "python",
   "nbconvert_exporter": "python",
   "pygments_lexer": "ipython3",
   "version": "3.12.2"
  }
 },
 "nbformat": 4,
 "nbformat_minor": 2
}
